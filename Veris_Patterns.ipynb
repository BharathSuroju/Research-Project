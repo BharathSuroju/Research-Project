{
 "cells": [
  {
   "cell_type": "code",
   "execution_count": 1,
   "metadata": {},
   "outputs": [],
   "source": [
    "from verispy import VERIS"
   ]
  },
  {
   "cell_type": "code",
   "execution_count": 2,
   "metadata": {},
   "outputs": [
    {
     "name": "stdout",
     "output_type": "stream",
     "text": [
      "Found 8539 json files.\n"
     ]
    }
   ],
   "source": [
    "data_dir = 'C:/bharath/project/VCDB-master1/data/json/validated'\n",
    "v = VERIS(json_dir=data_dir)"
   ]
  },
  {
   "cell_type": "code",
   "execution_count": 3,
   "metadata": {},
   "outputs": [
    {
     "data": {
      "text/plain": [
       "'https://raw.githubusercontent.com/vz-risk/veris/master/verisc-merged.json'"
      ]
     },
     "execution_count": 3,
     "metadata": {},
     "output_type": "execute_result"
    }
   ],
   "source": [
    "v.schema_url"
   ]
  },
  {
   "cell_type": "code",
   "execution_count": 4,
   "metadata": {},
   "outputs": [
    {
     "name": "stdout",
     "output_type": "stream",
     "text": [
      "Loading schema\n",
      "Loading JSON files to DataFrame.\n"
     ]
    },
    {
     "name": "stderr",
     "output_type": "stream",
     "text": [
      "100%|█████████████████████████████████████████████████████████████████████████████| 8539/8539 [01:20<00:00, 105.86it/s]\n"
     ]
    },
    {
     "name": "stdout",
     "output_type": "stream",
     "text": [
      "Finished loading JSON files to dataframe.\n",
      "Building DataFrame with enumerations.\n",
      "Building enumeration columns.\n"
     ]
    },
    {
     "name": "stderr",
     "output_type": "stream",
     "text": [
      "100%|████████████████████████████████████████████████████████████████████████████████| 173/173 [00:23<00:00,  7.28it/s]\n"
     ]
    },
    {
     "name": "stdout",
     "output_type": "stream",
     "text": [
      "Done building DataFrame with enumerations.\n",
      "Post-Processing DataFrame (A4 Names, Victim Industries, Patterns)\n",
      "Finished building VERIS DataFrame\n"
     ]
    }
   ],
   "source": [
    "df_veris = v.json_to_df(verbose=True)"
   ]
  },
  {
   "cell_type": "code",
   "execution_count": 5,
   "metadata": {},
   "outputs": [
    {
     "data": {
      "text/plain": [
       "5       00163384-B4D7-46D5-9E6F-543DFB00F598\n",
       "1203    18086BDC-29DD-46F7-8A05-A372C392CA95\n",
       "2370    18086BDC-29DD-46F7-8A05-A372C392CA95\n",
       "7019    d24d7280-6b0c-11e7-9b43-bf152d61c1c6\n",
       "8072    ad2653d0-d3bd-11e8-9659-2bc8d207b0aa\n",
       "Name: incident_id, dtype: object"
      ]
     },
     "execution_count": 5,
     "metadata": {},
     "output_type": "execute_result"
    }
   ],
   "source": [
    "duplicateRowsDF = df_veris[df_veris.duplicated(['incident_id'])]\n",
    "duplicateRowsDF['incident_id']"
   ]
  },
  {
   "cell_type": "code",
   "execution_count": 10,
   "metadata": {},
   "outputs": [],
   "source": [
    "df_veris.drop(8072,inplace = True)"
   ]
  },
  {
   "cell_type": "code",
   "execution_count": 81,
   "metadata": {},
   "outputs": [
    {
     "data": {
      "text/plain": [
       "0       A billing clerk filed a claim for Patient A wi...\n",
       "1       Patients at an Oregon healthcare facility were...\n",
       "2       Jersey City Medical Center said a computer dis...\n",
       "3       Sensitive information belonging to jobseekers ...\n",
       "4       Veteran A returned a hard copy written prescri...\n",
       "                              ...                        \n",
       "8534    Willis North America recently began notifying ...\n",
       "8535    Nearly a half-dozen former employees at Verizo...\n",
       "8536    The government alleged that IRTS, which Frankl...\n",
       "8537    A laptop containing personal and medical infor...\n",
       "8538    Veteran A received Veteran B's medication from...\n",
       "Name: summary, Length: 8534, dtype: object"
      ]
     },
     "execution_count": 81,
     "metadata": {},
     "output_type": "execute_result"
    }
   ],
   "source": [
    "df_veris['summary']"
   ]
  },
  {
   "cell_type": "code",
   "execution_count": 11,
   "metadata": {},
   "outputs": [
    {
     "data": {
      "text/plain": [
       "asset.assets.variety.U - Mobile phone    0\n",
       "dtype: int64"
      ]
     },
     "execution_count": 11,
     "metadata": {},
     "output_type": "execute_result"
    }
   ],
   "source": [
    "df_veris[['asset.assets.variety.U - Mobile phone']].isnull().sum()"
   ]
  },
  {
   "cell_type": "code",
   "execution_count": 78,
   "metadata": {},
   "outputs": [
    {
     "data": {
      "text/plain": [
       "2015"
      ]
     },
     "execution_count": 78,
     "metadata": {},
     "output_type": "execute_result"
    }
   ],
   "source": [
    "df_veris.iloc[1595]['timeline.incident.year']"
   ]
  },
  {
   "cell_type": "code",
   "execution_count": 48,
   "metadata": {},
   "outputs": [],
   "source": [
    "df_common = df_veris.loc[[165,503,709,870,1023,1069,1114,1137,1214,1256,1259,1267,1441,1631,1670,1715,2095,2252,2329,\n",
    "2362,2373,2463,2500,2533,2669,2805,2940,3047,3129,3182,3205,3209,3425,3720,3729,3875,3898,4020,\n",
    "4108,4136,4267,4270,4358,4413,4430,4924,4981,4989,5049,5069,5177,5219,5310,5385,5498,5524,5533,\n",
    "5601,5681,5944,6053,6210,6228,6254,6471,6582,6653,6692,6716,6782,6859,6865,7179,7331,7367,7377,\n",
    "7380,7483,7490,7496,7626,7709,7935,8090,8115,8171,8451,8481]]"
   ]
  },
  {
   "cell_type": "code",
   "execution_count": 13,
   "metadata": {},
   "outputs": [],
   "source": [
    "df_mobile = df_veris[df_veris['asset.assets.variety.U - Mobile phone']==True]"
   ]
  },
  {
   "cell_type": "code",
   "execution_count": null,
   "metadata": {},
   "outputs": [],
   "source": []
  },
  {
   "cell_type": "code",
   "execution_count": 87,
   "metadata": {},
   "outputs": [],
   "source": [
    "df_mobile[['reference','summary']].to_csv('mobilelinks1.csv')"
   ]
  },
  {
   "cell_type": "code",
   "execution_count": 21,
   "metadata": {},
   "outputs": [],
   "source": [
    "df_social = df_veris[df_veris['action.social.vector.Social media']== True ]"
   ]
  },
  {
   "cell_type": "code",
   "execution_count": 22,
   "metadata": {},
   "outputs": [
    {
     "data": {
      "text/plain": [
       "False    115\n",
       "True       6\n",
       "Name: action.Error, dtype: int64"
      ]
     },
     "execution_count": 22,
     "metadata": {},
     "output_type": "execute_result"
    }
   ],
   "source": [
    "df_mobile['action.Error'].value_counts()"
   ]
  },
  {
   "cell_type": "code",
   "execution_count": 23,
   "metadata": {},
   "outputs": [],
   "source": [
    "df_mobile.to_csv('mobilephone.csv')\n",
    "df_social.to_csv('social.csv')"
   ]
  },
  {
   "cell_type": "code",
   "execution_count": 24,
   "metadata": {},
   "outputs": [],
   "source": [
    "unigrams  = (\n",
    "    df_mobile['summary'].str.lower()\n",
    "                .str.replace(r'[^a-z\\s]', '')\n",
    "                .str.split(expand=True)\n",
    "                .stack())\n",
    "bigrams = unigrams + ' ' + unigrams.shift(-1)\n",
    "trigrams = bigrams + ' ' + unigrams.shift(-2)"
   ]
  },
  {
   "cell_type": "code",
   "execution_count": 25,
   "metadata": {},
   "outputs": [
    {
     "name": "stderr",
     "output_type": "stream",
     "text": [
      "C:\\Users\\bhara\\Anaconda3\\lib\\site-packages\\ipykernel_launcher.py:1: FutureWarning: The signature of `Series.to_csv` was aligned to that of `DataFrame.to_csv`, and argument 'header' will change its default value from False to True: please pass an explicit value to suppress this warning.\n",
      "  \"\"\"Entry point for launching an IPython kernel.\n"
     ]
    }
   ],
   "source": [
    "bigrams.to_csv('bigramsmobilephone.csv')"
   ]
  },
  {
   "cell_type": "code",
   "execution_count": 26,
   "metadata": {},
   "outputs": [
    {
     "name": "stderr",
     "output_type": "stream",
     "text": [
      "C:\\Users\\bhara\\Anaconda3\\lib\\site-packages\\ipykernel_launcher.py:1: FutureWarning: The signature of `Series.to_csv` was aligned to that of `DataFrame.to_csv`, and argument 'header' will change its default value from False to True: please pass an explicit value to suppress this warning.\n",
      "  \"\"\"Entry point for launching an IPython kernel.\n"
     ]
    }
   ],
   "source": [
    "trigrams.to_csv('trigramsmobilephone.csv')"
   ]
  },
  {
   "cell_type": "code",
   "execution_count": 86,
   "metadata": {},
   "outputs": [],
   "source": [
    "import xlsxwriter\n",
    "veris_copy = df_common.copy()\n",
    "summary = veris_copy[['summary']]\n",
    "for col in veris_copy.columns:\n",
    "    veris_copy[col] = veris_copy[col].apply(lambda x: col if x else '')\n",
    "veris_copy['pattern'] = veris_copy.apply(lambda x: ','.join(x), axis = 1)\n",
    "def get_first(pats):\n",
    "    pats = [pat for pat in pats.split(',') if len(pat) > 0]\n",
    "    return pats\n",
    "veris_copy['pattern'] = veris_copy['pattern'].apply(lambda x: get_first(x))\n",
    "common_excel = veris_copy[['pattern']]\n",
    "import pandas as pd\n",
    "list1 = list(veris_copy['pattern'])\n",
    "res1 = list(set.intersection(*map(set, list1))) \n",
    "list2 = []\n",
    "list3 = []\n",
    "for i in list1:\n",
    "    for j in i:\n",
    "        if j not in res1:\n",
    "            list2.append(j)\n",
    "    list3.append(list2)\n",
    "    list2 = []\n",
    "#res1 = list(set.intersection(*map(set, list3)))\n",
    "df1 = pd.Series(list3)\n",
    "frame =  {'difference':df1}\n",
    "df1 = pd.DataFrame(frame)\n",
    "mobile_intersections = pd.concat([common_excel,df1,summary],ignore_index=True,axis=1, sort=False)\n",
    "mobile_intersections.to_excel('mobile_intersections.xlsx')\n",
    "#print(mobile_intersections)"
   ]
  },
  {
   "cell_type": "code",
   "execution_count": 28,
   "metadata": {},
   "outputs": [],
   "source": [
    "veris_copy = df_mobile.copy()\n",
    "for col in veris_copy.columns:\n",
    "    veris_copy[col] = veris_copy[col].apply(lambda x: col if x else '')\n",
    "veris_copy['pattern'] = veris_copy.apply(lambda x: ','.join(x), axis = 1)"
   ]
  },
  {
   "cell_type": "code",
   "execution_count": 29,
   "metadata": {},
   "outputs": [
    {
     "data": {
      "text/plain": [
       "165     ,,action.Hacking,action.Malware,,,action.Socia...\n",
       "503     ,,action.Hacking,action.Malware,,,action.Socia...\n",
       "709     ,,action.Hacking,action.Malware,,,action.Socia...\n",
       "870     ,,action.Hacking,action.Malware,,,action.Socia...\n",
       "1023    ,,action.Hacking,action.Malware,,,action.Socia...\n",
       "                              ...                        \n",
       "8115    ,,action.Hacking,action.Malware,,,action.Socia...\n",
       "8148    ,,,,action.Misuse,,,,action.environmental.note...\n",
       "8171    ,,action.Hacking,action.Malware,,,action.Socia...\n",
       "8451    ,,action.Hacking,action.Malware,,,action.Socia...\n",
       "8481    ,,action.Hacking,action.Malware,,,action.Socia...\n",
       "Name: pattern, Length: 121, dtype: object"
      ]
     },
     "execution_count": 29,
     "metadata": {},
     "output_type": "execute_result"
    }
   ],
   "source": [
    "veris_copy['pattern']"
   ]
  },
  {
   "cell_type": "code",
   "execution_count": 30,
   "metadata": {},
   "outputs": [],
   "source": [
    "def get_first(pats):\n",
    "    pats = [pat for pat in pats.split(',') if len(pat) > 0]\n",
    "    return pats\n",
    "veris_copy['pattern'] = veris_copy['pattern'].apply(lambda x: get_first(x))"
   ]
  },
  {
   "cell_type": "code",
   "execution_count": 31,
   "metadata": {},
   "outputs": [
    {
     "data": {
      "text/plain": [
       "165     [action.Hacking, action.Malware, action.Social...\n",
       "503     [action.Hacking, action.Malware, action.Social...\n",
       "709     [action.Hacking, action.Malware, action.Social...\n",
       "870     [action.Hacking, action.Malware, action.Social...\n",
       "1023    [action.Hacking, action.Malware, action.Social...\n",
       "                              ...                        \n",
       "8115    [action.Hacking, action.Malware, action.Social...\n",
       "8148    [action.Misuse, action.environmental.notes, ac...\n",
       "8171    [action.Hacking, action.Malware, action.Social...\n",
       "8451    [action.Hacking, action.Malware, action.Social...\n",
       "8481    [action.Hacking, action.Malware, action.Social...\n",
       "Name: pattern, Length: 121, dtype: object"
      ]
     },
     "execution_count": 31,
     "metadata": {},
     "output_type": "execute_result"
    }
   ],
   "source": [
    "veris_copy['pattern']"
   ]
  },
  {
   "cell_type": "code",
   "execution_count": 32,
   "metadata": {},
   "outputs": [],
   "source": [
    "list1 = list(veris_copy['pattern'])\n",
    "res = list(set.intersection(*map(set, list1))) \n"
   ]
  },
  {
   "cell_type": "code",
   "execution_count": 47,
   "metadata": {},
   "outputs": [
    {
     "name": "stderr",
     "output_type": "stream",
     "text": [
      "C:\\Users\\bhara\\Anaconda3\\lib\\site-packages\\ipykernel_launcher.py:12: FutureWarning: The signature of `Series.to_csv` was aligned to that of `DataFrame.to_csv`, and argument 'header' will change its default value from False to True: please pass an explicit value to suppress this warning.\n",
      "  if sys.path[0] == '':\n"
     ]
    }
   ],
   "source": []
  },
  {
   "cell_type": "code",
   "execution_count": 44,
   "metadata": {},
   "outputs": [],
   "source": [
    "import xlsxwriter   \n",
    "workbook = xlsxwriter.Workbook('Frequent_Patterns_of_Mobile_Phones.xlsx') \n",
    "worksheet = workbook.add_worksheet() \n",
    "row = 0\n",
    "column = 0\n",
    "for item in res : \n",
    "  \n",
    "    # write operation perform \n",
    "    worksheet.write(row, column, item) \n",
    "  \n",
    "    # incrementing the value of row by one \n",
    "    # with each iteratons. \n",
    "    row += 1"
   ]
  },
  {
   "cell_type": "code",
   "execution_count": null,
   "metadata": {},
   "outputs": [],
   "source": []
  }
 ],
 "metadata": {
  "celltoolbar": "Raw Cell Format",
  "kernelspec": {
   "display_name": "Python 3",
   "language": "python",
   "name": "python3"
  },
  "language_info": {
   "codemirror_mode": {
    "name": "ipython",
    "version": 3
   },
   "file_extension": ".py",
   "mimetype": "text/x-python",
   "name": "python",
   "nbconvert_exporter": "python",
   "pygments_lexer": "ipython3",
   "version": "3.9.1"
  }
 },
 "nbformat": 4,
 "nbformat_minor": 2
}
